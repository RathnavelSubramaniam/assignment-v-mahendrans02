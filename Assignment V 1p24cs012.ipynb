{
 "cells": [
  {
   "cell_type": "code",
   "execution_count": 3,
   "id": "dca29894",
   "metadata": {},
   "outputs": [
    {
     "name": "stdout",
     "output_type": "stream",
     "text": [
      "Defaulting to user installation because normal site-packages is not writeable\n",
      "Requirement already satisfied: ISLP in c:\\users\\admin\\appdata\\roaming\\python\\python313\\site-packages (0.4.0)\n",
      "Requirement already satisfied: numpy>=1.7.1 in c:\\users\\admin\\appdata\\roaming\\python\\python313\\site-packages (from ISLP) (2.3.1)\n",
      "Requirement already satisfied: scipy>=0.9 in c:\\users\\admin\\appdata\\roaming\\python\\python313\\site-packages (from ISLP) (1.16.0)\n",
      "Requirement already satisfied: pandas>=0.20 in c:\\users\\admin\\appdata\\roaming\\python\\python313\\site-packages (from ISLP) (2.3.0)\n",
      "Requirement already satisfied: lxml in c:\\users\\admin\\appdata\\roaming\\python\\python313\\site-packages (from ISLP) (6.0.0)\n",
      "Requirement already satisfied: scikit-learn>=1.2 in c:\\users\\admin\\appdata\\roaming\\python\\python313\\site-packages (from ISLP) (1.7.0)\n",
      "Requirement already satisfied: joblib in c:\\users\\admin\\appdata\\roaming\\python\\python313\\site-packages (from ISLP) (1.5.1)\n",
      "Requirement already satisfied: statsmodels>=0.13 in c:\\users\\admin\\appdata\\roaming\\python\\python313\\site-packages (from ISLP) (0.14.5)\n",
      "Requirement already satisfied: lifelines in c:\\users\\admin\\appdata\\roaming\\python\\python313\\site-packages (from ISLP) (0.30.0)\n",
      "Requirement already satisfied: pygam in c:\\users\\admin\\appdata\\roaming\\python\\python313\\site-packages (from ISLP) (0.8.0)\n",
      "Requirement already satisfied: torch in c:\\users\\admin\\appdata\\roaming\\python\\python313\\site-packages (from ISLP) (2.7.1)\n",
      "Requirement already satisfied: pytorch-lightning in c:\\users\\admin\\appdata\\roaming\\python\\python313\\site-packages (from ISLP) (2.5.2)\n",
      "Requirement already satisfied: torchmetrics in c:\\users\\admin\\appdata\\roaming\\python\\python313\\site-packages (from ISLP) (1.7.4)\n",
      "Requirement already satisfied: python-dateutil>=2.8.2 in c:\\users\\admin\\appdata\\roaming\\python\\python313\\site-packages (from pandas>=0.20->ISLP) (2.9.0.post0)\n",
      "Requirement already satisfied: pytz>=2020.1 in c:\\users\\admin\\appdata\\roaming\\python\\python313\\site-packages (from pandas>=0.20->ISLP) (2025.2)\n",
      "Requirement already satisfied: tzdata>=2022.7 in c:\\users\\admin\\appdata\\roaming\\python\\python313\\site-packages (from pandas>=0.20->ISLP) (2025.2)\n",
      "Requirement already satisfied: six>=1.5 in c:\\users\\admin\\appdata\\roaming\\python\\python313\\site-packages (from python-dateutil>=2.8.2->pandas>=0.20->ISLP) (1.17.0)\n",
      "Requirement already satisfied: threadpoolctl>=3.1.0 in c:\\users\\admin\\appdata\\roaming\\python\\python313\\site-packages (from scikit-learn>=1.2->ISLP) (3.6.0)\n",
      "Requirement already satisfied: patsy>=0.5.6 in c:\\users\\admin\\appdata\\roaming\\python\\python313\\site-packages (from statsmodels>=0.13->ISLP) (1.0.1)\n",
      "Requirement already satisfied: packaging>=21.3 in c:\\users\\admin\\appdata\\roaming\\python\\python313\\site-packages (from statsmodels>=0.13->ISLP) (25.0)\n",
      "Requirement already satisfied: matplotlib>=3.0 in c:\\users\\admin\\appdata\\roaming\\python\\python313\\site-packages (from lifelines->ISLP) (3.10.3)\n",
      "Requirement already satisfied: autograd>=1.5 in c:\\users\\admin\\appdata\\roaming\\python\\python313\\site-packages (from lifelines->ISLP) (1.8.0)\n",
      "Requirement already satisfied: autograd-gamma>=0.3 in c:\\users\\admin\\appdata\\roaming\\python\\python313\\site-packages (from lifelines->ISLP) (0.5.0)\n",
      "Requirement already satisfied: formulaic>=0.2.2 in c:\\users\\admin\\appdata\\roaming\\python\\python313\\site-packages (from lifelines->ISLP) (1.1.1)\n",
      "Requirement already satisfied: interface-meta>=1.2.0 in c:\\users\\admin\\appdata\\roaming\\python\\python313\\site-packages (from formulaic>=0.2.2->lifelines->ISLP) (1.3.0)\n",
      "Requirement already satisfied: typing-extensions>=4.2.0 in c:\\users\\admin\\appdata\\roaming\\python\\python313\\site-packages (from formulaic>=0.2.2->lifelines->ISLP) (4.14.1)\n",
      "Requirement already satisfied: wrapt>=1.17.0rc1 in c:\\users\\admin\\appdata\\roaming\\python\\python313\\site-packages (from formulaic>=0.2.2->lifelines->ISLP) (1.17.2)\n",
      "Requirement already satisfied: contourpy>=1.0.1 in c:\\users\\admin\\appdata\\roaming\\python\\python313\\site-packages (from matplotlib>=3.0->lifelines->ISLP) (1.3.2)\n",
      "Requirement already satisfied: cycler>=0.10 in c:\\users\\admin\\appdata\\roaming\\python\\python313\\site-packages (from matplotlib>=3.0->lifelines->ISLP) (0.12.1)\n",
      "Requirement already satisfied: fonttools>=4.22.0 in c:\\users\\admin\\appdata\\roaming\\python\\python313\\site-packages (from matplotlib>=3.0->lifelines->ISLP) (4.58.5)\n",
      "Requirement already satisfied: kiwisolver>=1.3.1 in c:\\users\\admin\\appdata\\roaming\\python\\python313\\site-packages (from matplotlib>=3.0->lifelines->ISLP) (1.4.8)\n",
      "Requirement already satisfied: pillow>=8 in c:\\users\\admin\\appdata\\roaming\\python\\python313\\site-packages (from matplotlib>=3.0->lifelines->ISLP) (11.3.0)\n",
      "Requirement already satisfied: pyparsing>=2.3.1 in c:\\users\\admin\\appdata\\roaming\\python\\python313\\site-packages (from matplotlib>=3.0->lifelines->ISLP) (3.2.3)\n",
      "Requirement already satisfied: future in c:\\users\\admin\\appdata\\roaming\\python\\python313\\site-packages (from pygam->ISLP) (1.0.0)\n",
      "Requirement already satisfied: progressbar2 in c:\\users\\admin\\appdata\\roaming\\python\\python313\\site-packages (from pygam->ISLP) (4.5.0)\n",
      "Requirement already satisfied: python-utils>=3.8.1 in c:\\users\\admin\\appdata\\roaming\\python\\python313\\site-packages (from progressbar2->pygam->ISLP) (3.9.1)\n",
      "Requirement already satisfied: tqdm>=4.57.0 in c:\\users\\admin\\appdata\\roaming\\python\\python313\\site-packages (from pytorch-lightning->ISLP) (4.67.1)\n",
      "Requirement already satisfied: PyYAML>=5.4 in c:\\users\\admin\\appdata\\roaming\\python\\python313\\site-packages (from pytorch-lightning->ISLP) (6.0.2)\n",
      "Requirement already satisfied: fsspec>=2022.5.0 in c:\\users\\admin\\appdata\\roaming\\python\\python313\\site-packages (from fsspec[http]>=2022.5.0->pytorch-lightning->ISLP) (2025.5.1)\n",
      "Requirement already satisfied: lightning-utilities>=0.10.0 in c:\\users\\admin\\appdata\\roaming\\python\\python313\\site-packages (from pytorch-lightning->ISLP) (0.14.3)\n",
      "Requirement already satisfied: aiohttp!=4.0.0a0,!=4.0.0a1 in c:\\users\\admin\\appdata\\roaming\\python\\python313\\site-packages (from fsspec[http]>=2022.5.0->pytorch-lightning->ISLP) (3.12.14)\n",
      "Requirement already satisfied: aiohappyeyeballs>=2.5.0 in c:\\users\\admin\\appdata\\roaming\\python\\python313\\site-packages (from aiohttp!=4.0.0a0,!=4.0.0a1->fsspec[http]>=2022.5.0->pytorch-lightning->ISLP) (2.6.1)\n",
      "Requirement already satisfied: aiosignal>=1.4.0 in c:\\users\\admin\\appdata\\roaming\\python\\python313\\site-packages (from aiohttp!=4.0.0a0,!=4.0.0a1->fsspec[http]>=2022.5.0->pytorch-lightning->ISLP) (1.4.0)\n",
      "Requirement already satisfied: attrs>=17.3.0 in c:\\users\\admin\\appdata\\roaming\\python\\python313\\site-packages (from aiohttp!=4.0.0a0,!=4.0.0a1->fsspec[http]>=2022.5.0->pytorch-lightning->ISLP) (25.3.0)\n",
      "Requirement already satisfied: frozenlist>=1.1.1 in c:\\users\\admin\\appdata\\roaming\\python\\python313\\site-packages (from aiohttp!=4.0.0a0,!=4.0.0a1->fsspec[http]>=2022.5.0->pytorch-lightning->ISLP) (1.7.0)\n",
      "Requirement already satisfied: multidict<7.0,>=4.5 in c:\\users\\admin\\appdata\\roaming\\python\\python313\\site-packages (from aiohttp!=4.0.0a0,!=4.0.0a1->fsspec[http]>=2022.5.0->pytorch-lightning->ISLP) (6.6.3)\n",
      "Requirement already satisfied: propcache>=0.2.0 in c:\\users\\admin\\appdata\\roaming\\python\\python313\\site-packages (from aiohttp!=4.0.0a0,!=4.0.0a1->fsspec[http]>=2022.5.0->pytorch-lightning->ISLP) (0.3.2)\n",
      "Requirement already satisfied: yarl<2.0,>=1.17.0 in c:\\users\\admin\\appdata\\roaming\\python\\python313\\site-packages (from aiohttp!=4.0.0a0,!=4.0.0a1->fsspec[http]>=2022.5.0->pytorch-lightning->ISLP) (1.20.1)\n",
      "Requirement already satisfied: idna>=2.0 in c:\\users\\admin\\appdata\\roaming\\python\\python313\\site-packages (from yarl<2.0,>=1.17.0->aiohttp!=4.0.0a0,!=4.0.0a1->fsspec[http]>=2022.5.0->pytorch-lightning->ISLP) (3.10)\n",
      "Requirement already satisfied: setuptools in c:\\users\\admin\\appdata\\roaming\\python\\python313\\site-packages (from lightning-utilities>=0.10.0->pytorch-lightning->ISLP) (80.9.0)\n",
      "Requirement already satisfied: filelock in c:\\users\\admin\\appdata\\roaming\\python\\python313\\site-packages (from torch->ISLP) (3.18.0)\n",
      "Requirement already satisfied: sympy>=1.13.3 in c:\\users\\admin\\appdata\\roaming\\python\\python313\\site-packages (from torch->ISLP) (1.14.0)\n",
      "Requirement already satisfied: networkx in c:\\users\\admin\\appdata\\roaming\\python\\python313\\site-packages (from torch->ISLP) (3.5)\n",
      "Requirement already satisfied: jinja2 in c:\\users\\admin\\appdata\\roaming\\python\\python313\\site-packages (from torch->ISLP) (3.1.6)\n",
      "Requirement already satisfied: mpmath<1.4,>=1.1.0 in c:\\users\\admin\\appdata\\roaming\\python\\python313\\site-packages (from sympy>=1.13.3->torch->ISLP) (1.3.0)\n",
      "Requirement already satisfied: colorama in c:\\users\\admin\\appdata\\roaming\\python\\python313\\site-packages (from tqdm>=4.57.0->pytorch-lightning->ISLP) (0.4.6)\n",
      "Requirement already satisfied: MarkupSafe>=2.0 in c:\\users\\admin\\appdata\\roaming\\python\\python313\\site-packages (from jinja2->torch->ISLP) (3.0.2)\n",
      "Note: you may need to restart the kernel to use updated packages.\n"
     ]
    },
    {
     "name": "stderr",
     "output_type": "stream",
     "text": [
      "\n",
      "[notice] A new release of pip is available: 25.1.1 -> 25.2\n",
      "[notice] To update, run: python.exe -m pip install --upgrade pip\n"
     ]
    }
   ],
   "source": [
    "%pip install ISLP\n",
    "\n",
    "import ISLP"
   ]
  },
  {
   "cell_type": "code",
   "execution_count": 5,
   "id": "bf0905f1",
   "metadata": {},
   "outputs": [
    {
     "name": "stdout",
     "output_type": "stream",
     "text": [
      "Defaulting to user installation because normal site-packages is not writeable\n",
      "Requirement already satisfied: scikit-learn in c:\\users\\admin\\appdata\\roaming\\python\\python313\\site-packages (1.7.0)\n",
      "Requirement already satisfied: statsmodels in c:\\users\\admin\\appdata\\roaming\\python\\python313\\site-packages (0.14.5)\n",
      "Requirement already satisfied: numpy>=1.22.0 in c:\\users\\admin\\appdata\\roaming\\python\\python313\\site-packages (from scikit-learn) (2.3.1)\n",
      "Requirement already satisfied: scipy>=1.8.0 in c:\\users\\admin\\appdata\\roaming\\python\\python313\\site-packages (from scikit-learn) (1.16.0)\n",
      "Requirement already satisfied: joblib>=1.2.0 in c:\\users\\admin\\appdata\\roaming\\python\\python313\\site-packages (from scikit-learn) (1.5.1)\n",
      "Requirement already satisfied: threadpoolctl>=3.1.0 in c:\\users\\admin\\appdata\\roaming\\python\\python313\\site-packages (from scikit-learn) (3.6.0)\n",
      "Requirement already satisfied: pandas!=2.1.0,>=1.4 in c:\\users\\admin\\appdata\\roaming\\python\\python313\\site-packages (from statsmodels) (2.3.0)\n",
      "Requirement already satisfied: patsy>=0.5.6 in c:\\users\\admin\\appdata\\roaming\\python\\python313\\site-packages (from statsmodels) (1.0.1)\n",
      "Requirement already satisfied: packaging>=21.3 in c:\\users\\admin\\appdata\\roaming\\python\\python313\\site-packages (from statsmodels) (25.0)\n",
      "Requirement already satisfied: python-dateutil>=2.8.2 in c:\\users\\admin\\appdata\\roaming\\python\\python313\\site-packages (from pandas!=2.1.0,>=1.4->statsmodels) (2.9.0.post0)\n",
      "Requirement already satisfied: pytz>=2020.1 in c:\\users\\admin\\appdata\\roaming\\python\\python313\\site-packages (from pandas!=2.1.0,>=1.4->statsmodels) (2025.2)\n",
      "Requirement already satisfied: tzdata>=2022.7 in c:\\users\\admin\\appdata\\roaming\\python\\python313\\site-packages (from pandas!=2.1.0,>=1.4->statsmodels) (2025.2)\n",
      "Requirement already satisfied: six>=1.5 in c:\\users\\admin\\appdata\\roaming\\python\\python313\\site-packages (from python-dateutil>=2.8.2->pandas!=2.1.0,>=1.4->statsmodels) (1.17.0)\n",
      "Note: you may need to restart the kernel to use updated packages.\n"
     ]
    },
    {
     "name": "stderr",
     "output_type": "stream",
     "text": [
      "\n",
      "[notice] A new release of pip is available: 25.1.1 -> 25.2\n",
      "[notice] To update, run: python.exe -m pip install --upgrade pip\n"
     ]
    }
   ],
   "source": [
    "%pip install scikit-learn statsmodels\n",
    "\n",
    "from sklearn.linear_model import LinearRegression\n",
    "import statsmodels.api as sm"
   ]
  },
  {
   "cell_type": "code",
   "execution_count": 9,
   "id": "0ffc8d62",
   "metadata": {},
   "outputs": [
    {
     "name": "stdout",
     "output_type": "stream",
     "text": [
      "Defaulting to user installation because normal site-packages is not writeable\n",
      "Requirement already satisfied: pyglmnet in c:\\users\\admin\\appdata\\roaming\\python\\python313\\site-packages (1.1)\n",
      "Note: you may need to restart the kernel to use updated packages.\n"
     ]
    },
    {
     "name": "stderr",
     "output_type": "stream",
     "text": [
      "\n",
      "[notice] A new release of pip is available: 25.1.1 -> 25.2\n",
      "[notice] To update, run: python.exe -m pip install --upgrade pip\n"
     ]
    }
   ],
   "source": [
    "%pip install pyglmnet\n",
    "\n",
    "from pyglmnet import GLM"
   ]
  },
  {
   "cell_type": "code",
   "execution_count": 11,
   "id": "19610060",
   "metadata": {},
   "outputs": [],
   "source": [
    "from sklearn.cross_decomposition import PLSRegression\n"
   ]
  },
  {
   "cell_type": "code",
   "execution_count": 14,
   "id": "f480264d",
   "metadata": {},
   "outputs": [],
   "source": [
    "# Prepare data\n",
    "College = ISLP.load_data('College')\n"
   ]
  },
  {
   "cell_type": "code",
   "execution_count": 16,
   "id": "3845afcf",
   "metadata": {},
   "outputs": [],
   "source": [
    "import numpy as np\n",
    "\n",
    "np.random.seed(123)\n",
    "train = np.random.choice(College.index, size=len(College)//2, replace=False)\n",
    "test = College.index.difference(train)\n",
    "train_data = College.loc[train]\n",
    "test_data = College.loc[test]"
   ]
  },
  {
   "cell_type": "markdown",
   "id": "d9f45459",
   "metadata": {},
   "source": [
    "(a) Subset Selection"
   ]
  },
  {
   "cell_type": "code",
   "execution_count": 19,
   "id": "2e4235c4",
   "metadata": {},
   "outputs": [
    {
     "name": "stdout",
     "output_type": "stream",
     "text": [
      "Selected features: Index(['Accept', 'Top10perc', 'Outstate', 'Room.Board', 'Books', 'Personal',\n",
      "       'PhD', 'Terminal', 'Grad.Rate', 'Private_Yes'],\n",
      "      dtype='object')\n"
     ]
    }
   ],
   "source": [
    "\n",
    "import pandas as pd\n",
    "from sklearn.feature_selection import SequentialFeatureSelector\n",
    "\n",
    "# Prepare X and y\n",
    "X = train_data.drop(columns=['Apps'])\n",
    "y = train_data['Apps']\n",
    "\n",
    "# Convert categorical variable to dummy/indicator variables\n",
    "X = pd.get_dummies(X, drop_first=True)\n",
    "\n",
    "# Use LinearRegression for subset selection\n",
    "lr = LinearRegression()\n",
    "\n",
    "# Perform forward selection (you can also use direction='backward')\n",
    "sfs = SequentialFeatureSelector(lr, n_features_to_select=10, direction='forward')\n",
    "sfs.fit(X, y)\n",
    "\n",
    "# Get selected features\n",
    "selected_features = X.columns[sfs.get_support()]\n",
    "print(\"Selected features:\", selected_features)\n"
   ]
  },
  {
   "cell_type": "markdown",
   "id": "faa6e42e",
   "metadata": {},
   "source": [
    "(b) Ridge Regression"
   ]
  },
  {
   "cell_type": "code",
   "execution_count": 20,
   "id": "b4041131",
   "metadata": {},
   "outputs": [
    {
     "name": "stdout",
     "output_type": "stream",
     "text": [
      "Best alpha (lambda) for Ridge: 0.001\n"
     ]
    }
   ],
   "source": [
    "from sklearn.linear_model import RidgeCV\n",
    "import pandas as pd\n",
    "\n",
    "# Prepare X and y for ridge regression\n",
    "X_ridge = pd.get_dummies(College.drop(columns=['Apps']), drop_first=True)\n",
    "y_ridge = College['Apps']\n",
    "\n",
    "# Split into train and test using the indices\n",
    "X_train_ridge = X_ridge.loc[train]\n",
    "y_train_ridge = y_ridge.loc[train]\n",
    "\n",
    "# Ridge regression with cross-validation\n",
    "ridge_cv = RidgeCV(alphas=np.logspace(-3, 3, 100), cv=5)\n",
    "ridge_cv.fit(X_train_ridge, y_train_ridge)\n",
    "\n",
    "print(\"Best alpha (lambda) for Ridge:\", ridge_cv.alpha_)"
   ]
  },
  {
   "cell_type": "markdown",
   "id": "d702701f",
   "metadata": {},
   "source": [
    "(c) Lasso Regression"
   ]
  },
  {
   "cell_type": "code",
   "execution_count": 21,
   "id": "14cd364b",
   "metadata": {},
   "outputs": [
    {
     "name": "stdout",
     "output_type": "stream",
     "text": [
      "Best alpha (lambda) for Lasso: 247752.75721160593\n",
      "Lasso coefficients: [ 1.11394676  0.          0.          0.          0.13209825 -0.\n",
      "  0.          0.         -0.         -0.          0.          0.\n",
      "  0.         -0.          0.11236631  0.         -0.        ]\n"
     ]
    },
    {
     "name": "stderr",
     "output_type": "stream",
     "text": [
      "C:\\Users\\Admin\\AppData\\Roaming\\Python\\Python313\\site-packages\\sklearn\\linear_model\\_coordinate_descent.py:1632: FutureWarning: 'alphas=None' is deprecated and will be removed in 1.9, at which point the default value will be set to 100. Set 'alphas=100' to silence this warning.\n",
      "  warnings.warn(\n"
     ]
    }
   ],
   "source": [
    "from sklearn.linear_model import LassoCV\n",
    "\n",
    "# Prepare X and y for lasso regression (already done in previous cells)\n",
    "# X and y are your training data\n",
    "\n",
    "lasso_cv = LassoCV(alphas=None, cv=5, random_state=123)\n",
    "lasso_cv.fit(X, y)\n",
    "\n",
    "best_alpha_lasso = lasso_cv.alpha_\n",
    "lasso_coef = lasso_cv.coef_\n",
    "\n",
    "print(\"Best alpha (lambda) for Lasso:\", best_alpha_lasso)\n",
    "print(\"Lasso coefficients:\", lasso_coef)"
   ]
  },
  {
   "cell_type": "markdown",
   "id": "f88a1ec2",
   "metadata": {},
   "source": [
    "(d) PCR"
   ]
  },
  {
   "cell_type": "code",
   "execution_count": 22,
   "id": "69186c1b",
   "metadata": {},
   "outputs": [
    {
     "data": {
      "image/png": "[encoded data removed]",
      "text/plain": [
       "<Figure size 800x500 with 1 Axes>"
      ]
     },
     "metadata": {},
     "output_type": "display_data"
    }
   ],
   "source": [
    "from sklearn.decomposition import PCA\n",
    "from sklearn.linear_model import LinearRegression\n",
    "from sklearn.model_selection import cross_val_score\n",
    "import matplotlib.pyplot as plt\n",
    "\n",
    "# Prepare X and y for PCR\n",
    "X_pcr = pd.get_dummies(train_data.drop(columns=['Apps']), drop_first=True)\n",
    "y_pcr = train_data['Apps']\n",
    "\n",
    "# Standardize the predictors\n",
    "from sklearn.preprocessing import StandardScaler\n",
    "scaler = StandardScaler()\n",
    "X_scaled = scaler.fit_transform(X_pcr)\n",
    "\n",
    "# Try different numbers of principal components and record cross-validated MSE\n",
    "mse = []\n",
    "n_components_range = range(1, X_scaled.shape[1] + 1)\n",
    "for n in n_components_range:\n",
    "\tpca = PCA(n_components=n)\n",
    "\tX_pca = pca.fit_transform(X_scaled)\n",
    "\tlr = LinearRegression()\n",
    "\t# Negative MSE, so we take the negative to get positive MSE\n",
    "\tscores = cross_val_score(lr, X_pca, y_pcr, scoring='neg_mean_squared_error', cv=5)\n",
    "\tmse.append(-scores.mean())\n",
    "\n",
    "# Plot validation curve (MSEP)\n",
    "plt.figure(figsize=(8, 5))\n",
    "plt.plot(n_components_range, mse, marker='o')\n",
    "plt.xlabel('Number of Principal Components')\n",
    "plt.ylabel('Cross-Validated MSE')\n",
    "plt.title('PCR Validation Plot (MSEP)')\n",
    "plt.show()"
   ]
  }
 ],
 "metadata": {
  "kernelspec": {
   "display_name": "Python 3",
   "language": "python",
   "name": "python3"
  },
  "language_info": {
   "codemirror_mode": {
    "name": "ipython",
    "version": 3
   },
   "file_extension": ".py",
   "mimetype": "text/x-python",
   "name": "python",
   "nbconvert_exporter": "python",
   "pygments_lexer": "ipython3",
   "version": "3.13.5"
  }
 },
 "nbformat": 4,
 "nbformat_minor": 5
}
